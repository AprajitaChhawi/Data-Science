{
 "cells": [
  {
   "cell_type": "code",
   "execution_count": 1,
   "metadata": {},
   "outputs": [],
   "source": [
    "from matplotlib import pyplot as plt\n",
    "from matplotlib.image import imread\n",
    "import numpy as np\n",
    "import os"
   ]
  },
  {
   "cell_type": "code",
   "execution_count": 2,
   "metadata": {},
   "outputs": [],
   "source": [
    "dataset_path = 'DATA/'\n",
    "dataset_dir  = os.listdir(dataset_path)"
   ]
  },
  {
   "cell_type": "code",
   "execution_count": 3,
   "metadata": {},
   "outputs": [
    {
     "name": "stdout",
     "output_type": "stream",
     "text": [
      "240\n",
      "160\n"
     ]
    }
   ],
   "source": [
    "training_data=[]\n",
    "testing_data=[]\n",
    "for i in range(1,41):\n",
    "    j=1\n",
    "    image=os.listdir('DATA/'+'s'+str(i)+'/')\n",
    "    for k in image:\n",
    "        if(j<=6):\n",
    "            img=imread('DATA/'+'s'+str(i)+'/'+k)\n",
    "            l=np.asarray(img)\n",
    "            training_data.append(l.flatten())\n",
    "            \n",
    "        else:\n",
    "            img=imread('DATA/'+'s'+str(i)+'/'+k)\n",
    "            l=np.asarray(img)\n",
    "            testing_data.append(l.flatten())\n",
    "        j=j+1\n",
    "print(len(training_data))\n",
    "print(len(testing_data))"
   ]
  },
  {
   "cell_type": "code",
   "execution_count": 4,
   "metadata": {},
   "outputs": [
    {
     "name": "stdout",
     "output_type": "stream",
     "text": [
      "(10304, 240)\n"
     ]
    }
   ],
   "source": [
    "train_database=np.array(training_data).T\n",
    "print(train_database.shape)"
   ]
  },
  {
   "cell_type": "code",
   "execution_count": 5,
   "metadata": {},
   "outputs": [
    {
     "name": "stdout",
     "output_type": "stream",
     "text": [
      "[[85.3375    ]\n",
      " [85.35416667]\n",
      " [85.7375    ]\n",
      " ...\n",
      " [73.32916667]\n",
      " [73.73333333]\n",
      " [73.20416667]]\n"
     ]
    }
   ],
   "source": [
    "mn=10304\n",
    "p=240\n",
    "mean_face=np.zeros((mn,1))\n",
    "for i in range(mn):\n",
    "    for j in range(p):\n",
    "        mean_face[i]=mean_face[i]+train_database[i][j]\n",
    "    mean_face[i]=mean_face[i]/p\n",
    "print(mean_face)"
   ]
  },
  {
   "cell_type": "code",
   "execution_count": 6,
   "metadata": {},
   "outputs": [
    {
     "name": "stdout",
     "output_type": "stream",
     "text": [
      "(10304, 240)\n",
      "[[-37.3375     -51.3375     -25.3375     ...  45.6625      44.6625\n",
      "   42.6625    ]\n",
      " [-36.35416667 -51.35416667 -25.35416667 ...  39.64583333  37.64583333\n",
      "   39.64583333]\n",
      " [-40.7375     -52.7375     -23.7375     ...  40.2625      41.2625\n",
      "   39.2625    ]\n",
      " ...\n",
      " [-26.32916667 -36.32916667 -41.32916667 ...  15.67083333 -40.32916667\n",
      "   11.67083333]\n",
      " [-27.73333333 -33.73333333 -39.73333333 ...  19.26666667 -36.73333333\n",
      "   16.26666667]\n",
      " [-27.20416667 -40.20416667 -39.20416667 ...  17.79583333 -33.20416667\n",
      "   10.79583333]]\n"
     ]
    }
   ],
   "source": [
    "do_mean_zero=np.zeros((mn,p))\n",
    "for i in range(mn):\n",
    "    for j in range(p):\n",
    "        do_mean_zero[i][j]=train_database[i][j]-mean_face[i]\n",
    "print(do_mean_zero.shape)\n",
    "print(do_mean_zero)"
   ]
  },
  {
   "cell_type": "code",
   "execution_count": 7,
   "metadata": {},
   "outputs": [],
   "source": [
    "def surogate_cov(col):\n",
    "    mn,p=10304,240\n",
    "    delta_matrix=np.zeros((p,p))\n",
    "    for i in range(p):\n",
    "        for j in range(p):\n",
    "            delta_matrix[i][j]=(1/mn)*np.dot(do_mean_zero[:,j].T,do_mean_zero[:,i])\n",
    "    return delta_matrix"
   ]
  },
  {
   "cell_type": "code",
   "execution_count": 8,
   "metadata": {},
   "outputs": [
    {
     "name": "stdout",
     "output_type": "stream",
     "text": [
      "(240, 240)\n"
     ]
    }
   ],
   "source": [
    "cov_mat=surogate_cov(do_mean_zero)\n",
    "print(cov_mat.shape)"
   ]
  },
  {
   "cell_type": "code",
   "execution_count": 9,
   "metadata": {},
   "outputs": [
    {
     "name": "stdout",
     "output_type": "stream",
     "text": [
      "[[ 6.85942729e+04  0.00000000e+00  0.00000000e+00 ...  0.00000000e+00\n",
      "   0.00000000e+00  0.00000000e+00]\n",
      " [ 0.00000000e+00  4.88744315e+04  0.00000000e+00 ...  0.00000000e+00\n",
      "   0.00000000e+00  0.00000000e+00]\n",
      " [ 0.00000000e+00  0.00000000e+00  2.65915033e+04 ...  0.00000000e+00\n",
      "   0.00000000e+00  0.00000000e+00]\n",
      " ...\n",
      " [ 0.00000000e+00  0.00000000e+00  0.00000000e+00 ...  5.53806490e+01\n",
      "   0.00000000e+00  0.00000000e+00]\n",
      " [ 0.00000000e+00  0.00000000e+00  0.00000000e+00 ...  0.00000000e+00\n",
      "   5.38433125e+01  0.00000000e+00]\n",
      " [ 0.00000000e+00  0.00000000e+00  0.00000000e+00 ...  0.00000000e+00\n",
      "   0.00000000e+00 -2.19594464e-11]]\n",
      "[[-0.05540024 -0.05489584  0.10650774 ...  0.01199206 -0.00667667\n",
      "  -0.06454972]\n",
      " [-0.09900508 -0.05193554  0.07060146 ... -0.01917485  0.02239874\n",
      "  -0.06454972]\n",
      " [-0.11002278 -0.03457763 -0.02762099 ...  0.03396312 -0.02163922\n",
      "  -0.06454972]\n",
      " ...\n",
      " [-0.03310308 -0.08856274 -0.04906635 ... -0.00763014  0.01217754\n",
      "  -0.06454972]\n",
      " [-0.01812843 -0.00060335 -0.14401766 ...  0.04412183  0.00703178\n",
      "  -0.06454972]\n",
      " [-0.04065823 -0.07504021 -0.05982711 ...  0.00570286  0.00671053\n",
      "  -0.06454972]]\n"
     ]
    }
   ],
   "source": [
    "eigvals, eigvecs = np.linalg.eig(cov_mat)\n",
    "idx = eigvals.argsort()[::-1]\n",
    "eigenValues = eigvals[idx]\n",
    "eigenVectors = eigvecs[:,idx]\n",
    "eigenValues=np.diag(eigenValues)\n",
    "print(eigenValues)\n",
    "print(eigenVectors)"
   ]
  },
  {
   "cell_type": "code",
   "execution_count": 10,
   "metadata": {},
   "outputs": [
    {
     "name": "stdout",
     "output_type": "stream",
     "text": [
      "[[-0.05540024 -0.05489584  0.10650774 ... -0.00593167  0.0049732\n",
      "  -0.00210987]\n",
      " [-0.09900508 -0.05193554  0.07060146 ... -0.11538377  0.06211285\n",
      "   0.04315115]\n",
      " [-0.11002278 -0.03457763 -0.02762099 ... -0.07958945 -0.03558086\n",
      "  -0.03669805]\n",
      " ...\n",
      " [-0.03310308 -0.08856274 -0.04906635 ... -0.02151901 -0.0584692\n",
      "  -0.0119263 ]\n",
      " [-0.01812843 -0.00060335 -0.14401766 ...  0.07223193  0.10111922\n",
      "  -0.04094951]\n",
      " [-0.04065823 -0.07504021 -0.05982711 ... -0.01661378  0.0088549\n",
      "  -0.05578082]]\n"
     ]
    }
   ],
   "source": [
    "k = 100\n",
    "reduced_data = eigenVectors[:,0:k]\n",
    "print(reduced_data)"
   ]
  },
  {
   "cell_type": "code",
   "execution_count": 11,
   "metadata": {},
   "outputs": [
    {
     "name": "stdout",
     "output_type": "stream",
     "text": [
      "(100, 10304)\n",
      "[[  93.03543097   91.61639707   93.09379009 ...  153.13488452\n",
      "   159.73673833  178.13087815]\n",
      " [-318.82262951 -319.86134525 -317.90019676 ...  246.86239146\n",
      "   233.71772713  216.90719978]\n",
      " [-342.47305109 -343.53826075 -339.6572801  ... -171.22124843\n",
      "  -160.03121595 -168.8683265 ]\n",
      " ...\n",
      " [   3.77905985    4.31392705   -1.98375898 ...    7.53245526\n",
      "   -16.06770241  -48.23093631]\n",
      " [   5.59428081    1.59409675   -2.64100055 ...   15.00352717\n",
      "   -16.16296842  -26.54297242]\n",
      " [  -7.39135327   -5.22774467   -4.34573813 ...  -28.54642429\n",
      "    10.954182     -8.54116725]]\n"
     ]
    }
   ],
   "source": [
    "eigen_faces = np.dot(reduced_data.T,do_mean_zero.T)\n",
    "print(eigen_faces.shape)\n",
    "print(eigen_faces)"
   ]
  },
  {
   "cell_type": "code",
   "execution_count": 12,
   "metadata": {},
   "outputs": [
    {
     "name": "stdout",
     "output_type": "stream",
     "text": [
      "(100, 240)\n"
     ]
    }
   ],
   "source": [
    "sign=np.dot(eigen_faces,do_mean_zero)\n",
    "print(sign.shape)"
   ]
  },
  {
   "cell_type": "code",
   "execution_count": 13,
   "metadata": {},
   "outputs": [
    {
     "name": "stdout",
     "output_type": "stream",
     "text": [
      "(10304, 160)\n",
      "(10304, 1)\n"
     ]
    }
   ],
   "source": [
    "test_face=np.array(testing_data)\n",
    "test_face=test_face.transpose()\n",
    "print(test_face.shape)\n",
    "print(mean_face.shape)"
   ]
  },
  {
   "cell_type": "code",
   "execution_count": 14,
   "metadata": {},
   "outputs": [
    {
     "name": "stdout",
     "output_type": "stream",
     "text": [
      "[[-42.3375     -44.3375     -41.3375     ...  43.6625      39.6625\n",
      "   33.6625    ]\n",
      " [-35.35416667 -38.35416667 -42.35416667 ...  41.64583333  33.64583333\n",
      "   34.64583333]\n",
      " [-44.7375     -38.7375     -53.7375     ...  47.2625      38.2625\n",
      "   34.2625    ]\n",
      " ...\n",
      " [ 84.67083333 -38.32916667 -30.32916667 ...  19.67083333 -37.32916667\n",
      "   15.67083333]\n",
      " [ 79.26666667 -36.73333333 -30.73333333 ...  19.26666667 -34.73333333\n",
      "   20.26666667]\n",
      " [ 95.79583333 -35.20416667 -36.20416667 ...  19.79583333 -33.20416667\n",
      "   11.79583333]]\n"
     ]
    }
   ],
   "source": [
    "do_mean_zero1=np.zeros((test_face.shape))\n",
    "for i in range(10304):\n",
    "    for j in range(160):\n",
    "        do_mean_zero1[i][j]=test_face[i][j]-mean_face[i]\n",
    "print(do_mean_zero1)"
   ]
  },
  {
   "cell_type": "code",
   "execution_count": 15,
   "metadata": {},
   "outputs": [
    {
     "name": "stdout",
     "output_type": "stream",
     "text": [
      "(100, 160)\n",
      "[[-6.57937249e+07 -6.07882792e+07 -7.25843403e+07 ... -2.70514952e+07\n",
      "  -1.82284117e+07 -3.50326625e+07]\n",
      " [-2.37026931e+07 -1.74753069e+07 -1.37052034e+07 ... -2.96563374e+07\n",
      "  -2.48558866e+07 -2.94795359e+07]\n",
      " [ 2.94450048e+06  1.84032102e+07  2.17450598e+07 ... -1.87691047e+07\n",
      "  -2.57925753e+07 -1.24021607e+07]\n",
      " ...\n",
      " [-1.94393806e+04 -1.18430712e+04  2.89339866e+05 ... -1.93097840e+05\n",
      "  -1.19313923e+05 -4.45173326e+04]\n",
      " [ 3.67652781e+05 -2.36427614e+04 -9.97059717e+04 ... -6.86361882e+04\n",
      "   2.60839233e+05  6.10104305e+03]\n",
      " [-5.38663225e+05 -3.23024520e+04  4.94002660e+04 ... -3.84551951e+05\n",
      "   5.01322117e+05 -1.18494817e+05]]\n"
     ]
    }
   ],
   "source": [
    "project_face=np.dot(eigen_faces,do_mean_zero1)\n",
    "print(project_face.shape)\n",
    "print(project_face)"
   ]
  },
  {
   "cell_type": "code",
   "execution_count": 16,
   "metadata": {},
   "outputs": [],
   "source": [
    "true_Labels = np.arange(0,160)\n",
    "true_Labels = (true_Labels//4)"
   ]
  },
  {
   "cell_type": "code",
   "execution_count": 17,
   "metadata": {},
   "outputs": [],
   "source": [
    "from math import * #FUNCTION FOR EUCLIDEAN-DISTANCE\n",
    "def euclidean_distance(x,y):\n",
    "    return sqrt(sum(pow(a-b,2) for a,b in zip(x,y)))"
   ]
  },
  {
   "cell_type": "code",
   "execution_count": 18,
   "metadata": {},
   "outputs": [],
   "source": [
    "def accuracy_fun(true_cl,pred_cl):\n",
    "    count = 0\n",
    "    r=len(true_cl)\n",
    "    for i in range(len(true_cl)):\n",
    "        if(true_cl[i] == pred_cl[i]):\n",
    "            count += 1\n",
    "    accuracy_val = (count/len(true_cl))*100\n",
    "    return accuracy_val"
   ]
  },
  {
   "cell_type": "code",
   "execution_count": 20,
   "metadata": {},
   "outputs": [
    {
     "name": "stdout",
     "output_type": "stream",
     "text": [
      "[2.5, 7.5, 33.125, 61.875, 66.25, 70.625, 77.5, 80.0, 81.25, 81.25, 82.5, 83.125, 83.75, 83.75, 83.75, 84.375, 84.375, 84.375, 85.0, 85.0, 85.0, 85.0, 85.0, 85.0, 85.0, 85.0, 85.0, 85.0, 85.0, 85.625, 85.625]\n"
     ]
    }
   ],
   "source": [
    "import sys\n",
    "accuracy_curve = []\n",
    "for k in range(0,31):\n",
    "\n",
    "    min_dist = sys.maxsize\n",
    "    distances = [0] * test_face.shape[1]\n",
    "    classes = [0] * test_face.shape[1]\n",
    "\n",
    "    for i in range (test_face.shape[1]):\n",
    "        for j in range (train_database.shape[1]):\n",
    "            dist = euclidean_distance(project_face[0:k,i],sign[0:k,j])\n",
    "            if(dist < min_dist):\n",
    "                min_dist = dist\n",
    "                label = j\n",
    "\n",
    "        distances[i] = min_dist\n",
    "        classes[i] = label//6\n",
    "        min_dist = sys.maxsize\n",
    "\n",
    "    accuracy = accuracy_fun(true_Labels,classes)\n",
    "    accuracy_curve.append(accuracy)\n",
    "print(accuracy_curve)"
   ]
  },
  {
   "cell_type": "code",
   "execution_count": 21,
   "metadata": {},
   "outputs": [
    {
     "data": {
      "image/png": "[encoded data removed]",
      "text/plain": [
       "<Figure size 432x288 with 1 Axes>"
      ]
     },
     "metadata": {
      "needs_background": "light"
     },
     "output_type": "display_data"
    }
   ],
   "source": [
    "plt.plot(np.arange(0,31), accuracy_curve, color =\"blue\")  \n",
    "plt.title(\"Accuracy Curve\")  \n",
    "plt.xlabel(\"k_value\")  \n",
    "plt.ylabel(\"Accuracy\") \n",
    "plt.show()"
   ]
  },
  {
   "cell_type": "code",
   "execution_count": null,
   "metadata": {},
   "outputs": [],
   "source": []
  }
 ],
 "metadata": {
  "kernelspec": {
   "display_name": "Python 3",
   "language": "python",
   "name": "python3"
  },
  "language_info": {
   "codemirror_mode": {
    "name": "ipython",
    "version": 3
   },
   "file_extension": ".py",
   "mimetype": "text/x-python",
   "name": "python",
   "nbconvert_exporter": "python",
   "pygments_lexer": "ipython3",
   "version": "3.7.4"
  }
 },
 "nbformat": 4,
 "nbformat_minor": 2
}
