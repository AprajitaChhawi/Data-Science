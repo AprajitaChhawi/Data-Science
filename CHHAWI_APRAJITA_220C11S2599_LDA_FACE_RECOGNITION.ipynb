{
 "cells": [
  {
   "cell_type": "code",
   "execution_count": 1,
   "metadata": {},
   "outputs": [],
   "source": [
    "from matplotlib import pyplot as plt\n",
    "from matplotlib.image import imread\n",
    "from numpy.linalg import inv\n",
    "import numpy as np\n",
    "import os"
   ]
  },
  {
   "cell_type": "code",
   "execution_count": 2,
   "metadata": {},
   "outputs": [],
   "source": [
    "dataset_path='DATA/'\n",
    "dataset_dir=os.listdir(dataset_path)"
   ]
  },
  {
   "cell_type": "code",
   "execution_count": 3,
   "metadata": {},
   "outputs": [
    {
     "name": "stdout",
     "output_type": "stream",
     "text": [
      "240\n",
      "160\n"
     ]
    }
   ],
   "source": [
    "training_data1=[]\n",
    "testing_data1=[]\n",
    "for i in range(1,41):\n",
    "    j=1\n",
    "    image=os.listdir('DATA/'+'s'+str(i)+'/')\n",
    "    for k in image:\n",
    "        if(j<=6):\n",
    "            img=imread('DATA/'+'s'+str(i)+'/'+k)\n",
    "            l=np.asarray(img)\n",
    "            training_data1.append(l.flatten())\n",
    "            \n",
    "        else:\n",
    "            img=imread('DATA/'+'s'+str(i)+'/'+k)\n",
    "            l=np.asarray(img)\n",
    "            testing_data1.append(l.flatten())\n",
    "        j=j+1\n",
    "print(len(training_data1))\n",
    "print(len(testing_data1))"
   ]
  },
  {
   "cell_type": "code",
   "execution_count": 4,
   "metadata": {},
   "outputs": [
    {
     "name": "stdout",
     "output_type": "stream",
     "text": [
      "(240, 10304)\n",
      "(160, 10304)\n"
     ]
    }
   ],
   "source": [
    "training_data=np.array(training_data1)\n",
    "print(training_data.shape)\n",
    "testing_data=np.array(testing_data1)\n",
    "print(testing_data.shape)"
   ]
  },
  {
   "cell_type": "code",
   "execution_count": 23,
   "metadata": {},
   "outputs": [],
   "source": [
    "def Principal_component(training_data,components):\n",
    "    mean=np.zeros((1,10304))\n",
    "    for i in training_data:\n",
    "        mean=np.add(mean,i)\n",
    "    mean=np.divide(mean,240.0).flatten()\n",
    "    norm_training_data=np.ndarray(shape=(training_data.shape))\n",
    "    for i in range(240):\n",
    "        norm_training_data[i]=np.subtract(training_data[i],mean)\n",
    "    cov_mat=np.cov(norm_training_data)\n",
    "    cov_mat=np.divide(cov_mat,240.0)\n",
    "    eig_v,eig_vec=np.linalg.eig(cov_mat)\n",
    "    eig_tuple = [(eig_v[index], eig_vec[:,index]) for index in range(len(eig_v))]\n",
    "    eig_tuple.sort(reverse=True)\n",
    "    eig_v_sort  = [eig_tuple[index][0] for index in range(len(eig_v))]\n",
    "    eig_vec_sort = [eig_tuple[index][1] for index in range(len(eig_v))]\n",
    "    reduced_data = np.array(eig_vec_sort[:components]).transpose()\n",
    "    proj_data = np.dot(training_data.transpose(),reduced_data)\n",
    "    proj_data = proj_data.transpose()\n",
    "    wx = np.array([np.dot(proj_data,img) for img in norm_training_data])\n",
    "    return proj_data, wx"
   ]
  },
  {
   "cell_type": "code",
   "execution_count": 24,
   "metadata": {},
   "outputs": [
    {
     "name": "stdout",
     "output_type": "stream",
     "text": [
      "(240, 40)\n",
      "(40, 10304)\n"
     ]
    }
   ],
   "source": [
    "components=40\n",
    "proj_data, proj_sig=Principal_component(training_data,components)\n",
    "print(proj_sig.shape)\n",
    "print(proj_data.shape)"
   ]
  },
  {
   "cell_type": "code",
   "execution_count": 25,
   "metadata": {},
   "outputs": [
    {
     "name": "stdout",
     "output_type": "stream",
     "text": [
      "(1, 40)\n",
      "(40, 40)\n",
      "[[ 3.45753506e-09  2.14204192e-09  2.87157794e-09 -1.55996531e-09\n",
      "  -3.18201880e-09 -1.02445483e-09 -1.97906047e-10 -7.06252952e-10\n",
      "   1.94025536e-11 -6.20881716e-10 -6.70964558e-10  7.99385210e-10\n",
      "  -5.87897375e-10 -1.69772344e-11  5.62674055e-10 -4.03573116e-10\n",
      "  -7.14013974e-10 -5.47152013e-10  6.36403759e-10  2.59994219e-10\n",
      "  -3.74469285e-10  1.00893279e-09  3.13351241e-10 -1.51339918e-10\n",
      "  -6.11180440e-11  2.75516262e-10 -4.75362564e-10 -1.55220429e-11\n",
      "   2.05667069e-10 -7.49423634e-11 -1.00893279e-10  1.19519730e-09\n",
      "  -6.36403759e-10  1.54977897e-10  1.71130523e-09  2.81337028e-11\n",
      "   4.22975669e-10  1.35817875e-10 -2.25069622e-10 -6.62112143e-11]]\n"
     ]
    }
   ],
   "source": [
    "mean_each_class=np.zeros((40,40))\n",
    "mean_global=np.zeros((1,40))\n",
    "for i in range(40):\n",
    "    a = proj_sig[6*i:6*i+6]\n",
    "    for j in a:\n",
    "        mean_each_class[i,:] = np.add(mean_each_class[i,:],j)\n",
    "    mean_each_class[i,:] = np.divide(mean_each_class[i,:],float(len(a)))\n",
    "\n",
    "for i in proj_sig:\n",
    "    mean_global = np.add(mean_global,i)\n",
    "mean_global= np.divide(mean_global,float(len(proj_sig)))\n",
    "print(mean_global.shape)\n",
    "print(mean_each_class.shape)\n",
    "print(mean_global)"
   ]
  },
  {
   "cell_type": "code",
   "execution_count": 42,
   "metadata": {},
   "outputs": [
    {
     "name": "stdout",
     "output_type": "stream",
     "text": [
      "[[ 3.68437906e+16 -2.22909613e+14 -1.13317787e+15 ... -2.61876646e+14\n",
      "   6.62493395e+14  4.72436819e+14]\n",
      " [-2.22909613e+14  3.01711481e+16 -1.92385146e+15 ... -1.07075109e+15\n",
      "   1.27879700e+15  1.14458212e+15]\n",
      " [-1.13317787e+15 -1.92385146e+15  1.13492168e+16 ...  1.95365742e+14\n",
      "  -3.84661366e+14 -4.19917880e+14]\n",
      " ...\n",
      " [-2.61876646e+14 -1.07075109e+15  1.95365742e+14 ...  1.88128446e+14\n",
      "  -7.48040032e+13 -8.87107924e+13]\n",
      " [ 6.62493395e+14  1.27879700e+15 -3.84661366e+14 ... -7.48040032e+13\n",
      "   2.27341186e+14  7.89793401e+13]\n",
      " [ 4.72436819e+14  1.14458212e+15 -4.19917880e+14 ... -8.87107924e+13\n",
      "   7.89793401e+13  2.08381143e+14]]\n"
     ]
    }
   ],
   "source": [
    "wc_scatter = np.ndarray(shape=(40*6,40), dtype=np.float64)\n",
    "for i in range(40):\n",
    "    for j in range(6):\n",
    "        wc_scatter[i*6+j,:] = np.subtract(proj_sig[i*6+j,:],mean_each_class[i,:])\n",
    "sw = np.zeros((40,40))\n",
    "for i in range(40):\n",
    "    xa = wc_scatter[6*i:6*i+6,:]\n",
    "    xa = xa.transpose()\n",
    "    cov = np.dot(xa,xa.T)\n",
    "    sw = sw + cov\n",
    "sw.shape\n",
    "print(sw)"
   ]
  },
  {
   "cell_type": "code",
   "execution_count": 43,
   "metadata": {},
   "outputs": [
    {
     "data": {
      "text/plain": [
       "(40, 40)"
      ]
     },
     "execution_count": 43,
     "metadata": {},
     "output_type": "execute_result"
    }
   ],
   "source": [
    "normalised_proj_sig = np.ndarray(shape=(40*6,40), dtype=np.float64)\n",
    "for i in range(40*6):\n",
    "    normalised_proj_sig[i,:] = np.subtract(proj_sig[i,:],mean_global)\n",
    "sb = np.dot(normalised_proj_sig.T,normalised_proj_sig)\n",
    "sb = np.multiply(sb,6.0)\n",
    "sb.shape"
   ]
  },
  {
   "cell_type": "code",
   "execution_count": 30,
   "metadata": {},
   "outputs": [
    {
     "data": {
      "text/plain": [
       "(40, 40)"
      ]
     },
     "execution_count": 30,
     "metadata": {},
     "output_type": "execute_result"
    }
   ],
   "source": [
    "cost_func = np.dot(inv(sw), sb)\n",
    "cost_func.shape"
   ]
  },
  {
   "cell_type": "code",
   "execution_count": 31,
   "metadata": {},
   "outputs": [],
   "source": [
    "eigenv, eigenvec, = np.linalg.eig(cost_func)"
   ]
  },
  {
   "cell_type": "code",
   "execution_count": 32,
   "metadata": {},
   "outputs": [],
   "source": [
    "eig_p = [(eigenv[index], eigenvec[:,index]) for index in range(len(eigenv))]\n",
    "eig_p.sort(reverse=True)\n",
    "eigv_sort  = [eig_p[index][0] for index in range(len(eigenv))]\n",
    "eigvec_sort = [eig_p[index][1] for index in range(len(eigenv))]"
   ]
  },
  {
   "cell_type": "code",
   "execution_count": 36,
   "metadata": {},
   "outputs": [
    {
     "data": {
      "text/plain": [
       "(40, 20)"
      ]
     },
     "execution_count": 36,
     "metadata": {},
     "output_type": "execute_result"
    }
   ],
   "source": [
    "reduced_data = np.array(eigvec_sort[:20]).transpose()\n",
    "reduced_data.shape"
   ]
  },
  {
   "cell_type": "code",
   "execution_count": 37,
   "metadata": {},
   "outputs": [
    {
     "data": {
      "text/plain": [
       "(240, 20)"
      ]
     },
     "execution_count": 37,
     "metadata": {},
     "output_type": "execute_result"
    }
   ],
   "source": [
    "proj_sig.shape\n",
    "FP = np.dot(proj_sig, reduced_data)\n",
    "FP.shape"
   ]
  },
  {
   "cell_type": "code",
   "execution_count": 38,
   "metadata": {},
   "outputs": [
    {
     "data": {
      "text/plain": [
       "(20, 10304)"
      ]
     },
     "execution_count": 38,
     "metadata": {},
     "output_type": "execute_result"
    }
   ],
   "source": [
    "proj_data1 = np.dot(training_data.transpose(),FP)\n",
    "proj_data1 = proj_data1.transpose()\n",
    "proj_data1.shape"
   ]
  },
  {
   "cell_type": "code",
   "execution_count": 39,
   "metadata": {},
   "outputs": [],
   "source": [
    "mean_face = np.zeros((1,10304))\n",
    "for i in training_data:\n",
    "    mean_face = np.add(mean_face,i)\n",
    "mean_face = np.divide(mean_face,float(len(training_data))).flatten()"
   ]
  },
  {
   "cell_type": "code",
   "execution_count": 40,
   "metadata": {},
   "outputs": [
    {
     "name": "stdout",
     "output_type": "stream",
     "text": [
      "Correct predictions: 153/160 = 95.625%\n"
     ]
    }
   ],
   "source": [
    "count=0\n",
    "num_images=0\n",
    "correct_pred=0\n",
    "def recogniser(img_number):\n",
    "    global count,highest_min,num_images,correct_pred\n",
    "    num_images+= 1\n",
    "    unknown_face_vector = testing_data[img_number,:]\n",
    "    normalised_uface_vector = np.subtract(unknown_face_vector,mean_face)\n",
    "    PEF = np.dot(proj_data,normalised_uface_vector)\n",
    "    proj_fisher_test_img = np.dot(reduced_data.T,PEF)\n",
    "    diff  = FP - proj_fisher_test_img\n",
    "    norms = np.linalg.norm(diff, axis=1)\n",
    "    index = np.argmin(norms)\n",
    "    set_number = int(img_number/4)\n",
    "    t0 = 7000000\n",
    "    if norms[index] < t0:\n",
    "        if(index>=(6*set_number) and index<(6*(set_number+1))):\n",
    "            correct_pred += 1\n",
    "    else:\n",
    "        if(img_number>=40):\n",
    "            correct_pred += 1\n",
    "for i in range(len(testing_data)):\n",
    "    recogniser(i)\n",
    "print('Correct predictions: {}/{} = {}%'.format(correct_pred, num_images, correct_pred/num_images*100.00))"
   ]
  },
  {
   "cell_type": "code",
   "execution_count": 41,
   "metadata": {},
   "outputs": [
    {
     "data": {
      "text/plain": [
       "Text(0.5, 1.0, 'Accuracy vs. k-value')"
      ]
     },
     "execution_count": 41,
     "metadata": {},
     "output_type": "execute_result"
    },
    {
     "data": {
      "image/png": "[encoded data removed]",
      "text/plain": [
       "<Figure size 432x288 with 1 Axes>"
      ]
     },
     "metadata": {
      "needs_background": "light"
     },
     "output_type": "display_data"
    }
   ],
   "source": [
    "accuracy = np.zeros(len(eigv_sort))\n",
    "def tester(img_number,reduced_data,FP,num_images,correct_pred):\n",
    "    num_images+= 1\n",
    "    unknown_face_vector = testing_data[img_number,:]\n",
    "    normalised_uface_vector = np.subtract(unknown_face_vector,mean_face)\n",
    "    PEF = np.dot(proj_data,normalised_uface_vector)\n",
    "    proj_fisher_test_img = np.dot(reduced_data.T,PEF)\n",
    "    diff  = FP - proj_fisher_test_img\n",
    "    norms = np.linalg.norm(diff, axis=1)\n",
    "    index = np.argmin(norms)\n",
    "    set_number = int(img_number/4)\n",
    "    t0 = 7000000\n",
    "    if norms[index] < t0:\n",
    "        if(index>=(6*set_number) and index<(6*(set_number+1))):\n",
    "            correct_pred += 1\n",
    "    else:\n",
    "        if(img_number>=40):\n",
    "            correct_pred += 1\n",
    "    return num_images,correct_pred\n",
    "\n",
    "def calculate(k):\n",
    "    reduced_data = np.array(eigvec_sort[:k]).transpose()\n",
    "    FP = np.dot(proj_sig, reduced_data)\n",
    "    num_images=0\n",
    "    correct_pred=0\n",
    "    for i in range(len(testing_data)):\n",
    "        num_images,correct_pred = tester(i,reduced_data,FP,num_images,correct_pred)\n",
    "    accuracy[k] = correct_pred/num_images*100.00\n",
    "for i in range(1,len(eigv_sort)):\n",
    "    calculate(i)\n",
    "fig, axi = plt.subplots()  \n",
    "axi.plot(np.arange(len(eigv_sort)), accuracy, 'b')  \n",
    "axi.set_xlabel('Number of eigen values')  \n",
    "axi.set_ylabel('Accuracy')  \n",
    "axi.set_title('Accuracy vs. k-value')"
   ]
  },
  {
   "cell_type": "code",
   "execution_count": null,
   "metadata": {},
   "outputs": [],
   "source": []
  }
 ],
 "metadata": {
  "kernelspec": {
   "display_name": "Python 3",
   "language": "python",
   "name": "python3"
  },
  "language_info": {
   "codemirror_mode": {
    "name": "ipython",
    "version": 3
   },
   "file_extension": ".py",
   "mimetype": "text/x-python",
   "name": "python",
   "nbconvert_exporter": "python",
   "pygments_lexer": "ipython3",
   "version": "3.7.4"
  }
 },
 "nbformat": 4,
 "nbformat_minor": 2
}
